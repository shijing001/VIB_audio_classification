{
 "cells": [
  {
   "cell_type": "code",
   "execution_count": 4,
   "metadata": {},
   "outputs": [],
   "source": [
    "import os\n",
    "import joblib"
   ]
  },
  {
   "cell_type": "code",
   "execution_count": 5,
   "metadata": {},
   "outputs": [],
   "source": [
    "import torch\n",
    "import torch.nn as nn\n",
    "import torch.nn.functional as F\n",
    "import torch.nn.init as init\n",
    "from torch.autograd import Variable\n",
    "from utils import cuda\n",
    "from torch.utils.data.dataset import Dataset\n",
    "import time\n",
    "from numbers import Number"
   ]
  },
  {
   "cell_type": "code",
   "execution_count": 6,
   "metadata": {},
   "outputs": [],
   "source": [
    "import warnings\n",
    "warnings.filterwarnings(\"ignore\")"
   ]
  },
  {
   "cell_type": "code",
   "execution_count": 7,
   "metadata": {},
   "outputs": [],
   "source": [
    "import warnings\n",
    "\n",
    "def fxn():\n",
    "    warnings.warn(\"deprecated\", DeprecationWarning)\n",
    "\n",
    "with warnings.catch_warnings():\n",
    "    warnings.simplefilter(\"ignore\")\n",
    "    fxn()"
   ]
  },
  {
   "cell_type": "code",
   "execution_count": 8,
   "metadata": {},
   "outputs": [
    {
     "name": "stdout",
     "output_type": "stream",
     "text": [
      "Traceback (most recent call last):\r\n",
      "  File \"main.py\", line 4, in <module>\r\n",
      "    from utils import str2bool\r\n",
      "ModuleNotFoundError: No module named 'utils'\r\n"
     ]
    }
   ],
   "source": [
    "!python3 main.py --mode train --beta 1e-2 --epoch 50 --lr 1.e-2 --K=256 #bs in main "
   ]
  },
  {
   "cell_type": "code",
   "execution_count": null,
   "metadata": {},
   "outputs": [],
   "source": []
  },
  {
   "cell_type": "code",
   "execution_count": 81,
   "metadata": {},
   "outputs": [
    {
     "name": "stdout",
     "output_type": "stream",
     "text": [
      "\n",
      "[ARGUMENTS]\n",
      "Namespace(K=256, batch_size=100, beta=0.001, ckpt_dir='checkpoints', cuda=True, dataset={'train': <torch.utils.data.dataloader.DataLoader object at 0x7fcf2495c310>, 'test': <torch.utils.data.dataloader.DataLoader object at 0x7fcf28e41d50>}, dset_dir='joblib_features', env_name='[NAME]', epoch=1, load_ckpt='best_acc.tar', lr=0.0001, mode='test', num_avg=0, seed=1, summary_dir='summary', tensorboard=False)\n",
      "\n",
      "/Users/sunhuiming/Desktop/2/VIB_audio_classification/model.py:79: UserWarning: nn.init.xavier_uniform is now deprecated in favor of nn.init.xavier_uniform_.\n",
      "  nn.init.xavier_uniform(m.weight,gain=nn.init.calculate_gain('relu'))\n",
      "=> no checkpoint found at 'checkpoints/[NAME]/best_acc.tar'\n",
      "{'train': <torch.utils.data.dataloader.DataLoader object at 0x7fcf2495c310>, 'test': <torch.utils.data.dataloader.DataLoader object at 0x7fcf28e41d50>}\n",
      "/opt/anaconda3/lib/python3.7/site-packages/torch/nn/_reduction.py:44: UserWarning: size_average and reduce args will be deprecated, please use reduction='sum' instead.\n",
      "  warnings.warn(warning.format(ret))\n",
      "[TEST RESULT]\n",
      "epoch:0 IZY:-51.14 IZX:28401.57 acc:0.1170 avg_acc:0.0000 err:0.8830 avg_erra:1.0000\n",
      "              precision    recall  f1-score   support\n",
      "\n",
      "         0.0       0.07      0.09      0.08       113\n",
      "         1.0       0.10      0.17      0.13        80\n",
      "         2.0       0.19      0.13      0.15       175\n",
      "         3.0       0.12      0.11      0.12       153\n",
      "         4.0       0.13      0.09      0.11       159\n",
      "         5.0       0.13      0.12      0.13       140\n",
      "         6.0       0.08      0.08      0.08       110\n",
      "         7.0       0.12      0.16      0.14       121\n",
      "\n",
      "    accuracy                           0.12      1051\n",
      "   macro avg       0.12      0.12      0.12      1051\n",
      "weighted avg       0.12      0.12      0.12      1051\n",
      "\n"
     ]
    }
   ],
   "source": [
    "!python3 main.py --mode test --env_name [NAME] --load_ckpt best_acc.tar"
   ]
  },
  {
   "cell_type": "code",
   "execution_count": null,
   "metadata": {},
   "outputs": [],
   "source": []
  }
 ],
 "metadata": {
  "kernelspec": {
   "display_name": "Python 3",
   "language": "python",
   "name": "python3"
  },
  "language_info": {
   "codemirror_mode": {
    "name": "ipython",
    "version": 3
   },
   "file_extension": ".py",
   "mimetype": "text/x-python",
   "name": "python",
   "nbconvert_exporter": "python",
   "pygments_lexer": "ipython3",
   "version": "3.7.4"
  }
 },
 "nbformat": 4,
 "nbformat_minor": 2
}
