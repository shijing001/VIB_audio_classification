{
 "cells": [
  {
   "cell_type": "markdown",
   "metadata": {},
   "source": [
    "## Environment Setting"
   ]
  },
  {
   "cell_type": "code",
   "execution_count": 1,
   "metadata": {},
   "outputs": [
    {
     "name": "stdout",
     "output_type": "stream",
     "text": [
      "1.7.1\n"
     ]
    }
   ],
   "source": [
    "import torch\n",
    "print(torch.__version__)"
   ]
  },
  {
   "cell_type": "code",
   "execution_count": 2,
   "metadata": {},
   "outputs": [
    {
     "name": "stdout",
     "output_type": "stream",
     "text": [
      "3.7.4\n"
     ]
    }
   ],
   "source": [
    "from platform import python_version\n",
    "\n",
    "print(python_version())"
   ]
  },
  {
   "cell_type": "code",
   "execution_count": 3,
   "metadata": {},
   "outputs": [],
   "source": [
    "import warnings\n",
    "warnings.filterwarnings(\"ignore\")"
   ]
  },
  {
   "cell_type": "markdown",
   "metadata": {},
   "source": [
    "## Train and test the model "
   ]
  },
  {
   "cell_type": "code",
   "execution_count": 4,
   "metadata": {},
   "outputs": [],
   "source": [
    "###  you can also run in the command line directly "
   ]
  },
  {
   "cell_type": "code",
   "execution_count": 1,
   "metadata": {},
   "outputs": [
    {
     "name": "stdout",
     "output_type": "stream",
     "text": [
      "TensorFlow version:  2.4.0\n"
     ]
    }
   ],
   "source": [
    "from datetime import datetime\n",
    "from packaging import version\n",
    "\n",
    "import tensorflow as tf\n",
    "from tensorflow import keras\n",
    "\n",
    "import numpy as np\n",
    "\n",
    "print(\"TensorFlow version: \", tf.__version__)\n",
    "assert version.parse(tf.__version__).release[0] >= 2, \\\n",
    "    \"This notebook requires TensorFlow 2.0 or above.\""
   ]
  },
  {
   "cell_type": "code",
   "execution_count": 10,
   "metadata": {
    "scrolled": false
   },
   "outputs": [
    {
     "name": "stdout",
     "output_type": "stream",
     "text": [
      "315\n",
      "\n",
      "[ARGUMENTS]\n",
      "Namespace(K=10, batch_size=8, beta=0.0005, ckpt_dir='checkpoints', cuda=False, data='emotiontoronto', dataset={'train': <torch.utils.data.dataloader.DataLoader object at 0x7ff6627d8290>, 'validate': <torch.utils.data.dataloader.DataLoader object at 0x7ff662a8b1d0>, 'test': <torch.utils.data.dataloader.DataLoader object at 0x7ff662a87dd0>}, dim_input=40, dset_dir='joblib_features', env_name='main', epoch=5, load_ckpt='', lr=0.002, mode='train', num_avg=1, output_features=8, seed=1, summary_dir='summary', tensorboard=False, train_dataset_percentage=0.1)\n",
      "\n",
      "/Users/sunhuiming/Desktop/2/VIB_audio_classification-main-2/model.py:71: UserWarning: nn.init.xavier_uniform is now deprecated in favor of nn.init.xavier_uniform_.\n",
      "  nn.init.xavier_uniform(m.weight,gain=nn.init.calculate_gain('relu'))\n",
      "{'train': <torch.utils.data.dataloader.DataLoader object at 0x7ff6627d8290>, 'validate': <torch.utils.data.dataloader.DataLoader object at 0x7ff662a8b1d0>, 'test': <torch.utils.data.dataloader.DataLoader object at 0x7ff662a87dd0>}\n",
      "epoch.  1\n",
      "accuracy 0.1492063492063492\n",
      "f1score 0.14537309658181102\n",
      "{'Accuracy': [0.15], 'F1_Score': [0.15]}\n",
      "[TRAIN RESULT]\n",
      "i:1 IZY:-4.32 IZX:2173.84 acc:0.1492 avg_acc:0.1492 err:0.8508 avg_err:0.8508\n",
      "              precision    recall  f1-score   support\n",
      "\n",
      "         0.0       0.14      0.15      0.14        34\n",
      "         1.0       0.16      0.18      0.17        28\n",
      "         2.0       0.10      0.08      0.09        38\n",
      "         3.0       0.15      0.17      0.16        52\n",
      "         4.0       0.24      0.21      0.23        43\n",
      "         5.0       0.16      0.12      0.14        48\n",
      "         6.0       0.06      0.07      0.06        30\n",
      "         7.0       0.17      0.19      0.18        42\n",
      "\n",
      "    accuracy                           0.15       315\n",
      "   macro avg       0.15      0.15      0.15       315\n",
      "weighted avg       0.15      0.15      0.15       315\n",
      "\n",
      "/opt/anaconda3/lib/python3.7/site-packages/torch/nn/_reduction.py:44: UserWarning: size_average and reduce args will be deprecated, please use reduction='sum' instead.\n",
      "  warnings.warn(warning.format(ret))\n",
      "/opt/anaconda3/lib/python3.7/site-packages/sklearn/metrics/classification.py:1437: UndefinedMetricWarning: F-score is ill-defined and being set to 0.0 in labels with no predicted samples.\n",
      "  'precision', 'predicted', average, warn_for)\n",
      "[Validation RESULT]\n",
      "epoch:1 IZY:-10172.73 IZX:1344441.50 acc:0.1029 avg_acc:0.1029 err:0.8971 avg_erra:0.8971\n",
      "/opt/anaconda3/lib/python3.7/site-packages/sklearn/metrics/classification.py:1437: UndefinedMetricWarning: Precision and F-score are ill-defined and being set to 0.0 in labels with no predicted samples.\n",
      "  'precision', 'predicted', average, warn_for)\n",
      "              precision    recall  f1-score   support\n",
      "\n",
      "         0.0       0.07      0.04      0.05       129\n",
      "         1.0       0.09      0.48      0.15        90\n",
      "         2.0       0.00      0.00      0.00       152\n",
      "         3.0       0.11      0.07      0.09       143\n",
      "         4.0       0.14      0.03      0.05       146\n",
      "         5.0       0.00      0.00      0.00       148\n",
      "         6.0       0.08      0.02      0.04       122\n",
      "         7.0       0.12      0.36      0.18       120\n",
      "\n",
      "    accuracy                           0.10      1050\n",
      "   macro avg       0.08      0.12      0.07      1050\n",
      "weighted avg       0.07      0.10      0.06      1050\n",
      "\n",
      "update new params\n",
      "=> saved checkpoint 'checkpoints/main/best_acc.tar' (epoch 1)\n",
      "save checkpoint\n",
      "epoch.  2\n",
      "accuracy 0.3619047619047619\n",
      "f1score 0.35155601165788053\n",
      "{'Accuracy': [0.15, 0.36], 'F1_Score': [0.15, 0.35]}\n",
      "[TRAIN RESULT]\n",
      "i:2 IZY:-25.58 IZX:1714.88 acc:0.3619 avg_acc:0.1810 err:0.6381 avg_err:0.8190\n",
      "              precision    recall  f1-score   support\n",
      "\n",
      "         0.0       0.50      0.59      0.54        34\n",
      "         1.0       0.21      0.25      0.23        28\n",
      "         2.0       0.15      0.13      0.14        38\n",
      "         3.0       0.37      0.37      0.37        52\n",
      "         4.0       0.48      0.49      0.48        43\n",
      "         5.0       0.40      0.40      0.40        48\n",
      "         6.0       0.32      0.27      0.29        30\n",
      "         7.0       0.38      0.36      0.37        42\n",
      "\n",
      "    accuracy                           0.36       315\n",
      "   macro avg       0.35      0.36      0.35       315\n",
      "weighted avg       0.36      0.36      0.36       315\n",
      "\n",
      "[Validation RESULT]\n",
      "epoch:2 IZY:-8158.16 IZX:982736.56 acc:0.1257 avg_acc:0.0629 err:0.8743 avg_erra:0.9371\n",
      "              precision    recall  f1-score   support\n",
      "\n",
      "         0.0       0.16      0.08      0.11       129\n",
      "         1.0       0.10      0.61      0.17        90\n",
      "         2.0       0.00      0.00      0.00       152\n",
      "         3.0       0.21      0.14      0.17       143\n",
      "         4.0       0.15      0.02      0.04       146\n",
      "         5.0       0.00      0.00      0.00       148\n",
      "         6.0       0.07      0.02      0.04       122\n",
      "         7.0       0.14      0.34      0.20       120\n",
      "\n",
      "    accuracy                           0.13      1050\n",
      "   macro avg       0.10      0.15      0.09      1050\n",
      "weighted avg       0.10      0.13      0.08      1050\n",
      "\n",
      "update new params\n",
      "=> saved checkpoint 'checkpoints/main/best_acc.tar' (epoch 2)\n",
      "save checkpoint\n",
      "epoch.  3\n",
      "accuracy 0.41904761904761906\n",
      "f1score 0.4134343773272908\n",
      "{'Accuracy': [0.15, 0.36, 0.42], 'F1_Score': [0.15, 0.35, 0.41]}\n",
      "[TRAIN RESULT]\n",
      "i:3 IZY:-12.70 IZX:1366.99 acc:0.4190 avg_acc:0.1397 err:0.5810 avg_err:0.8603\n",
      "              precision    recall  f1-score   support\n",
      "\n",
      "         0.0       0.68      0.74      0.70        34\n",
      "         1.0       0.19      0.25      0.22        28\n",
      "         2.0       0.21      0.18      0.20        38\n",
      "         3.0       0.43      0.40      0.42        52\n",
      "         4.0       0.61      0.58      0.60        43\n",
      "         5.0       0.36      0.35      0.36        48\n",
      "         6.0       0.33      0.37      0.35        30\n",
      "         7.0       0.49      0.45      0.47        42\n",
      "\n",
      "    accuracy                           0.42       315\n",
      "   macro avg       0.41      0.42      0.41       315\n",
      "weighted avg       0.42      0.42      0.42       315\n",
      "\n",
      "[Validation RESULT]\n",
      "epoch:3 IZY:-6831.27 IZX:741511.25 acc:0.1171 avg_acc:0.0390 err:0.8829 avg_erra:0.9610\n",
      "              precision    recall  f1-score   support\n",
      "\n",
      "         0.0       0.21      0.07      0.10       129\n",
      "         1.0       0.09      0.72      0.16        90\n",
      "         2.0       0.00      0.00      0.00       152\n",
      "         3.0       0.15      0.07      0.10       143\n",
      "         4.0       0.11      0.01      0.02       146\n",
      "         5.0       0.00      0.00      0.00       148\n",
      "         6.0       0.35      0.07      0.12       122\n",
      "         7.0       0.15      0.23      0.18       120\n",
      "\n",
      "    accuracy                           0.12      1050\n",
      "   macro avg       0.13      0.15      0.09      1050\n",
      "weighted avg       0.13      0.12      0.08      1050\n",
      "\n",
      "epoch.  4\n",
      "accuracy 0.40634920634920635\n",
      "f1score 0.39378673107577\n",
      "{'Accuracy': [0.15, 0.36, 0.42, 0.41], 'F1_Score': [0.15, 0.35, 0.41, 0.39]}\n",
      "[TRAIN RESULT]\n",
      "i:4 IZY:3.27 IZX:733.04 acc:0.4063 avg_acc:0.1016 err:0.5937 avg_err:0.8984\n",
      "              precision    recall  f1-score   support\n",
      "\n",
      "         0.0       0.71      0.74      0.72        34\n",
      "         1.0       0.21      0.18      0.19        28\n",
      "         2.0       0.17      0.18      0.18        38\n",
      "         3.0       0.39      0.42      0.40        52\n",
      "         4.0       0.50      0.51      0.51        43\n",
      "         5.0       0.55      0.48      0.51        48\n",
      "         6.0       0.23      0.23      0.23        30\n",
      "         7.0       0.40      0.40      0.40        42\n",
      "\n",
      "    accuracy                           0.41       315\n",
      "   macro avg       0.39      0.39      0.39       315\n",
      "weighted avg       0.41      0.41      0.41       315\n",
      "\n",
      "[Validation RESULT]\n",
      "epoch:4 IZY:-5927.55 IZX:546409.50 acc:0.1143 avg_acc:0.0286 err:0.8857 avg_erra:0.9714\n",
      "              precision    recall  f1-score   support\n",
      "\n",
      "         0.0       0.39      0.13      0.20       129\n",
      "         1.0       0.09      0.88      0.17        90\n",
      "         2.0       0.00      0.00      0.00       152\n",
      "         3.0       0.14      0.03      0.06       143\n",
      "         4.0       0.12      0.01      0.01       146\n",
      "         5.0       0.00      0.00      0.00       148\n",
      "         6.0       0.11      0.02      0.03       122\n",
      "         7.0       0.16      0.13      0.14       120\n",
      "\n",
      "    accuracy                           0.11      1050\n",
      "   macro avg       0.13      0.15      0.08      1050\n",
      "weighted avg       0.12      0.11      0.07      1050\n",
      "\n",
      "epoch.  5\n"
     ]
    },
    {
     "name": "stdout",
     "output_type": "stream",
     "text": [
      "accuracy 0.5333333333333333\n",
      "f1score 0.5207141103373268\n",
      "{'Accuracy': [0.15, 0.36, 0.42, 0.41, 0.53], 'F1_Score': [0.15, 0.35, 0.41, 0.39, 0.52]}\n",
      "[TRAIN RESULT]\n",
      "i:5 IZY:-0.31 IZX:247.26 acc:0.5333 avg_acc:0.1067 err:0.4667 avg_err:0.8933\n",
      "              precision    recall  f1-score   support\n",
      "\n",
      "         0.0       0.79      0.79      0.79        34\n",
      "         1.0       0.30      0.32      0.31        28\n",
      "         2.0       0.43      0.39      0.41        38\n",
      "         3.0       0.56      0.60      0.58        52\n",
      "         4.0       0.55      0.53      0.54        43\n",
      "         5.0       0.56      0.58      0.57        48\n",
      "         6.0       0.38      0.37      0.37        30\n",
      "         7.0       0.60      0.57      0.59        42\n",
      "\n",
      "    accuracy                           0.53       315\n",
      "   macro avg       0.52      0.52      0.52       315\n",
      "weighted avg       0.53      0.53      0.53       315\n",
      "\n",
      "[Validation RESULT]\n",
      "epoch:5 IZY:-5118.68 IZX:421104.69 acc:0.1162 avg_acc:0.0232 err:0.8838 avg_erra:0.9768\n",
      "              precision    recall  f1-score   support\n",
      "\n",
      "         0.0       0.58      0.11      0.18       129\n",
      "         1.0       0.09      0.98      0.17        90\n",
      "         2.0       0.00      0.00      0.00       152\n",
      "         3.0       0.26      0.04      0.07       143\n",
      "         4.0       0.50      0.03      0.05       146\n",
      "         5.0       0.00      0.00      0.00       148\n",
      "         6.0       0.00      0.00      0.00       122\n",
      "         7.0       0.21      0.08      0.12       120\n",
      "\n",
      "    accuracy                           0.12      1050\n",
      "   macro avg       0.21      0.15      0.07      1050\n",
      "weighted avg       0.21      0.12      0.07      1050\n",
      "\n",
      "vib_train: {'Accuracy': [0.15, 0.36, 0.42, 0.41, 0.53], 'F1_Score': [0.15, 0.35, 0.41, 0.39, 0.52]}\n",
      "vib_validation {'Accuracy': [0.1, 0.13, 0.12, 0.11, 0.12], 'F1_Score': [0.07, 0.09, 0.09, 0.08, 0.07]}\n",
      " [*] Training Finished!\n"
     ]
    }
   ],
   "source": [
    "!python main.py --mode train --data emotiontoronto  --beta 5e-4 --epoch 5 --lr 2.e-3 --K 10 --batch_size 8 --train_dataset_percentage 0.1\n",
    "\n",
    "\n"
   ]
  },
  {
   "cell_type": "code",
   "execution_count": null,
   "metadata": {},
   "outputs": [],
   "source": []
  },
  {
   "cell_type": "code",
   "execution_count": 12,
   "metadata": {},
   "outputs": [
    {
     "name": "stdout",
     "output_type": "stream",
     "text": [
      "3151\n",
      "\n",
      "[ARGUMENTS]\n",
      "Namespace(K=256, batch_size=32, beta=0.01, ckpt_dir='checkpoints', cuda=False, data='emotiontoronto', dataset={'train': <torch.utils.data.dataloader.DataLoader object at 0x7f87b1288ed0>, 'validate': <torch.utils.data.dataloader.DataLoader object at 0x7f87b1288f50>, 'test': <torch.utils.data.dataloader.DataLoader object at 0x7f87b1288d50>}, dim_input=40, dset_dir='joblib_features', env_name='main', epoch=20, load_ckpt='best_acc.tar', lr=0.001, mode='test', num_avg=1, output_features=8, seed=1, summary_dir='summary', tensorboard=False, train_dataset_percentage=1.0)\n",
      "\n",
      "/Users/sunhuiming/Desktop/2/VIB_audio_classification-main-2/model.py:71: UserWarning: nn.init.xavier_uniform is now deprecated in favor of nn.init.xavier_uniform_.\n",
      "  nn.init.xavier_uniform(m.weight,gain=nn.init.calculate_gain('relu'))\n",
      "=> loading checkpoint 'checkpoints/main/best_acc.tar'\n",
      "Traceback (most recent call last):\n",
      "  File \"main.py\", line 118, in <module>\n",
      "    main(args)\n",
      "  File \"main.py\", line 53, in main\n",
      "    net = Solver(args)\n",
      "  File \"/Users/sunhuiming/Desktop/2/VIB_audio_classification-main-2/solver.py\", line 56, in __init__\n",
      "    if self.load_ckpt != '' : self.load_checkpoint(self.load_ckpt)\n",
      "  File \"/Users/sunhuiming/Desktop/2/VIB_audio_classification-main-2/solver.py\", line 460, in load_checkpoint\n",
      "    self.toynet.load_state_dict(checkpoint['model_states']['net'])\n",
      "  File \"/opt/anaconda3/lib/python3.7/site-packages/torch/nn/modules/module.py\", line 1052, in load_state_dict\n",
      "    self.__class__.__name__, \"\\n\\t\".join(error_msgs)))\n",
      "RuntimeError: Error(s) in loading state_dict for ToyNet:\n",
      "\tsize mismatch for encode.4.weight: copying a param with shape torch.Size([20, 1024]) from checkpoint, the shape in current model is torch.Size([512, 1024]).\n",
      "\tsize mismatch for encode.4.bias: copying a param with shape torch.Size([20]) from checkpoint, the shape in current model is torch.Size([512]).\n",
      "\tsize mismatch for decode.0.weight: copying a param with shape torch.Size([8, 10]) from checkpoint, the shape in current model is torch.Size([8, 256]).\n"
     ]
    }
   ],
   "source": [
    "!python main.py --mode test --data emotiontoronto --beta 1e-2 --epoch 20 --lr 1.e-3 --K=256 --batch_size=32 --load_ckpt best_acc.tar"
   ]
  },
  {
   "cell_type": "code",
   "execution_count": null,
   "metadata": {},
   "outputs": [],
   "source": []
  },
  {
   "cell_type": "code",
   "execution_count": null,
   "metadata": {},
   "outputs": [],
   "source": []
  },
  {
   "cell_type": "code",
   "execution_count": null,
   "metadata": {},
   "outputs": [],
   "source": []
  }
 ],
 "metadata": {
  "kernelspec": {
   "display_name": "Python 3",
   "language": "python",
   "name": "python3"
  },
  "language_info": {
   "codemirror_mode": {
    "name": "ipython",
    "version": 3
   },
   "file_extension": ".py",
   "mimetype": "text/x-python",
   "name": "python",
   "nbconvert_exporter": "python",
   "pygments_lexer": "ipython3",
   "version": "3.7.4"
  }
 },
 "nbformat": 4,
 "nbformat_minor": 2
}
