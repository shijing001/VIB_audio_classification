{
 "cells": [
  {
   "cell_type": "code",
   "execution_count": 1,
   "metadata": {},
   "outputs": [],
   "source": [
    "import numpy as np\n",
    "import torch\n",
    "import argparse\n",
    "from utils import str2bool\n",
    "from solver import Solver\n",
    "import joblib\n",
    "from torch.utils.data import Dataset, DataLoader"
   ]
  },
  {
   "cell_type": "code",
   "execution_count": 2,
   "metadata": {},
   "outputs": [],
   "source": [
    "class CustomDataset(Dataset):\n",
    "    \"\"\"\n",
    "    construct dataset from numpy arrays\n",
    "    \n",
    "    \"\"\"\n",
    "    def __init__(self, data, target, transform=None):\n",
    "        self.data = torch.from_numpy(data).float()\n",
    "        self.target = torch.from_numpy(target).long()\n",
    "        self.transform = transform\n",
    "        \n",
    "    def __getitem__(self, index):\n",
    "        x = self.data[index]\n",
    "        y = self.target[index]\n",
    "        \n",
    "        if self.transform:\n",
    "            x = self.transform(x)\n",
    "        \n",
    "        return x, y\n",
    "    \n",
    "    def __len__(self):\n",
    "        return len(self.data)"
   ]
  },
  {
   "cell_type": "code",
   "execution_count": 4,
   "metadata": {},
   "outputs": [],
   "source": [
    "### create data loader\n",
    "X,y = joblib.load('./joblib_features/Xurbansound8k.joblib'),joblib.load('./joblib_features/yurbansound8k.joblib')\n",
    "#elif args.data=='emotiontoronto':\n",
    "#    X,y = joblib.load('./joblib_features/X.joblib'),joblib.load('./joblib_features/y.joblib')\n",
    "full_dataset = CustomDataset(X, y)\n",
    "train_size = int(0.6 * len(full_dataset))\n",
    "valid_size = int(0.2 * len(full_dataset))\n",
    "test_size = len(full_dataset) - valid_size-train_size\n",
    "batch_size = 64\n",
    "#train_dataset, test_dataset = torch.utils.data.random_split(full_dataset, \n",
    "                                                            #[train_size, test_size])\n",
    "                                \n",
    "train_dataset, valid_dataset, test_dataset = torch.utils.data.random_split(\n",
    "    full_dataset, (train_size, valid_size, test_size))\n",
    "train_dataloader = DataLoader(train_dataset, batch_size=batch_size, shuffle=True, num_workers=0)\n",
    "valid_dataloader = DataLoader(valid_dataset, batch_size=batch_size, shuffle=True, num_workers=0)\n",
    "test_dataloader = DataLoader(test_dataset, batch_size=batch_size, shuffle=True, num_workers=0)\n",
    "my_dataloader = {'train': train_dataloader , 'validate':valid_dataloader, 'test': test_dataloader}\n"
   ]
  },
  {
   "cell_type": "code",
   "execution_count": 5,
   "metadata": {},
   "outputs": [
    {
     "data": {
      "text/plain": [
       "((8732, 128), (8732,))"
      ]
     },
     "execution_count": 5,
     "metadata": {},
     "output_type": "execute_result"
    }
   ],
   "source": [
    "X.shape, y.shape"
   ]
  },
  {
   "cell_type": "code",
   "execution_count": 7,
   "metadata": {},
   "outputs": [
    {
     "data": {
      "text/plain": [
       "(5239, 1746, 1747)"
      ]
     },
     "execution_count": 7,
     "metadata": {},
     "output_type": "execute_result"
    }
   ],
   "source": [
    "train_size, valid_size, test_size"
   ]
  },
  {
   "cell_type": "code",
   "execution_count": 9,
   "metadata": {},
   "outputs": [
    {
     "data": {
      "text/plain": [
       "(5239, 1746, 1747)"
      ]
     },
     "execution_count": 9,
     "metadata": {},
     "output_type": "execute_result"
    }
   ],
   "source": [
    "len(train_dataset),len(valid_dataset),len(test_dataset)"
   ]
  },
  {
   "cell_type": "code",
   "execution_count": 18,
   "metadata": {},
   "outputs": [
    {
     "data": {
      "text/plain": [
       "torch.Size([128])"
      ]
     },
     "execution_count": 18,
     "metadata": {},
     "output_type": "execute_result"
    }
   ],
   "source": [
    "train_dataset.__getitem__(0)[0].size()"
   ]
  },
  {
   "cell_type": "code",
   "execution_count": 24,
   "metadata": {
    "scrolled": true
   },
   "outputs": [
    {
     "name": "stdout",
     "output_type": "stream",
     "text": [
      "index: 0 data size: torch.Size([64, 128]) label size torch.Size([64])\n",
      "index: 1 data size: torch.Size([64, 128]) label size torch.Size([64])\n",
      "index: 2 data size: torch.Size([64, 128]) label size torch.Size([64])\n",
      "index: 3 data size: torch.Size([64, 128]) label size torch.Size([64])\n",
      "index: 4 data size: torch.Size([64, 128]) label size torch.Size([64])\n",
      "index: 5 data size: torch.Size([64, 128]) label size torch.Size([64])\n",
      "index: 6 data size: torch.Size([64, 128]) label size torch.Size([64])\n",
      "index: 7 data size: torch.Size([64, 128]) label size torch.Size([64])\n",
      "index: 8 data size: torch.Size([64, 128]) label size torch.Size([64])\n",
      "index: 9 data size: torch.Size([64, 128]) label size torch.Size([64])\n",
      "index: 10 data size: torch.Size([64, 128]) label size torch.Size([64])\n",
      "index: 11 data size: torch.Size([64, 128]) label size torch.Size([64])\n",
      "index: 12 data size: torch.Size([64, 128]) label size torch.Size([64])\n",
      "index: 13 data size: torch.Size([64, 128]) label size torch.Size([64])\n",
      "index: 14 data size: torch.Size([64, 128]) label size torch.Size([64])\n",
      "index: 15 data size: torch.Size([64, 128]) label size torch.Size([64])\n",
      "index: 16 data size: torch.Size([64, 128]) label size torch.Size([64])\n",
      "index: 17 data size: torch.Size([64, 128]) label size torch.Size([64])\n",
      "index: 18 data size: torch.Size([64, 128]) label size torch.Size([64])\n",
      "index: 19 data size: torch.Size([64, 128]) label size torch.Size([64])\n",
      "index: 20 data size: torch.Size([64, 128]) label size torch.Size([64])\n",
      "index: 21 data size: torch.Size([64, 128]) label size torch.Size([64])\n",
      "index: 22 data size: torch.Size([64, 128]) label size torch.Size([64])\n",
      "index: 23 data size: torch.Size([64, 128]) label size torch.Size([64])\n",
      "index: 24 data size: torch.Size([64, 128]) label size torch.Size([64])\n",
      "index: 25 data size: torch.Size([64, 128]) label size torch.Size([64])\n",
      "index: 26 data size: torch.Size([64, 128]) label size torch.Size([64])\n",
      "index: 27 data size: torch.Size([18, 128]) label size torch.Size([18])\n"
     ]
    }
   ],
   "source": [
    "for idx, (data,label) in enumerate(my_dataloader['validate']):\n",
    "    print('index:',idx, 'data size:', data.shape, 'label size', label.shape)"
   ]
  },
  {
   "cell_type": "code",
   "execution_count": 25,
   "metadata": {},
   "outputs": [
    {
     "data": {
      "text/plain": [
       "1746"
      ]
     },
     "execution_count": 25,
     "metadata": {},
     "output_type": "execute_result"
    }
   ],
   "source": [
    "27*64+18"
   ]
  },
  {
   "cell_type": "code",
   "execution_count": null,
   "metadata": {},
   "outputs": [],
   "source": []
  }
 ],
 "metadata": {
  "kernelspec": {
   "display_name": "Python 3",
   "language": "python",
   "name": "python3"
  },
  "language_info": {
   "codemirror_mode": {
    "name": "ipython",
    "version": 3
   },
   "file_extension": ".py",
   "mimetype": "text/x-python",
   "name": "python",
   "nbconvert_exporter": "python",
   "pygments_lexer": "ipython3",
   "version": "3.7.6"
  }
 },
 "nbformat": 4,
 "nbformat_minor": 4
}
