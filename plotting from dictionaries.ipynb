{
 "cells": [
  {
   "cell_type": "code",
   "execution_count": 19,
   "metadata": {},
   "outputs": [],
   "source": [
    "import pandas as pd\n",
    "\n",
    "import json\n",
    "\n",
    "import matplotlib.pyplot as plt"
   ]
  },
  {
   "cell_type": "code",
   "execution_count": 20,
   "metadata": {},
   "outputs": [
    {
     "data": {
      "text/plain": [
       "PosixPath('/Users/sunhuiming/Desktop/2/VIB_audio_classification-main-2')"
      ]
     },
     "execution_count": 20,
     "metadata": {},
     "output_type": "execute_result"
    }
   ],
   "source": [
    "import pathlib\n",
    "working_dir_path = pathlib.Path().absolute()\n",
    "working_dir_path"
   ]
  },
  {
   "cell_type": "code",
   "execution_count": 21,
   "metadata": {},
   "outputs": [],
   "source": [
    "with open('./Dictionaries/baseline/baseline_train0.1.json') as js:\n",
    "    baseline_train = json.load(js)\n",
    "    "
   ]
  },
  {
   "cell_type": "code",
   "execution_count": 22,
   "metadata": {},
   "outputs": [],
   "source": [
    "with open('./Dictionaries/baseline/baseline_valid0.1.json') as js:\n",
    "    baseline_valid = json.load(js)\n",
    "    "
   ]
  },
  {
   "cell_type": "code",
   "execution_count": 23,
   "metadata": {},
   "outputs": [
    {
     "data": {
      "text/plain": [
       "(10, 10)"
      ]
     },
     "execution_count": 23,
     "metadata": {},
     "output_type": "execute_result"
    }
   ],
   "source": [
    "len(baseline_valid['Accuracy']),len(baseline_valid['Accuracy'])"
   ]
  },
  {
   "cell_type": "code",
   "execution_count": 24,
   "metadata": {},
   "outputs": [],
   "source": [
    "with open('./Dictionaries/VIB/vib_train0.1.json') as js:\n",
    "    vib_train = json.load(js)"
   ]
  },
  {
   "cell_type": "code",
   "execution_count": 25,
   "metadata": {},
   "outputs": [],
   "source": [
    "with open('./Dictionaries/VIB/vib_valid0.1.json') as js:\n",
    "    vib_valid = json.load(js)\n",
    "    "
   ]
  },
  {
   "cell_type": "code",
   "execution_count": 26,
   "metadata": {},
   "outputs": [
    {
     "data": {
      "text/plain": [
       "(10, 10)"
      ]
     },
     "execution_count": 26,
     "metadata": {},
     "output_type": "execute_result"
    }
   ],
   "source": [
    "len(vib_train['Accuracy']),len(vib_valid['Accuracy'])"
   ]
  },
  {
   "cell_type": "code",
   "execution_count": 27,
   "metadata": {},
   "outputs": [],
   "source": [
    "dict1 = {'baseline_train_acc':baseline_train['Accuracy'] ,\n",
    "        'baseline_valid_acc':baseline_valid['Accuracy'],\n",
    "        'VIB_train_acc':vib_train['Accuracy'],\n",
    "        'VIB_valid_acc':vib_valid['Accuracy']} "
   ]
  },
  {
   "cell_type": "code",
   "execution_count": 28,
   "metadata": {
    "scrolled": true
   },
   "outputs": [
    {
     "data": {
      "text/html": [
       "<div>\n",
       "<style scoped>\n",
       "    .dataframe tbody tr th:only-of-type {\n",
       "        vertical-align: middle;\n",
       "    }\n",
       "\n",
       "    .dataframe tbody tr th {\n",
       "        vertical-align: top;\n",
       "    }\n",
       "\n",
       "    .dataframe thead th {\n",
       "        text-align: right;\n",
       "    }\n",
       "</style>\n",
       "<table border=\"1\" class=\"dataframe\">\n",
       "  <thead>\n",
       "    <tr style=\"text-align: right;\">\n",
       "      <th></th>\n",
       "      <th>baseline_train_acc</th>\n",
       "      <th>baseline_valid_acc</th>\n",
       "      <th>VIB_train_acc</th>\n",
       "      <th>VIB_valid_acc</th>\n",
       "      <th>index</th>\n",
       "    </tr>\n",
       "  </thead>\n",
       "  <tbody>\n",
       "    <tr>\n",
       "      <td>0</td>\n",
       "      <td>0.13</td>\n",
       "      <td>0.22</td>\n",
       "      <td>0.17</td>\n",
       "      <td>0.08</td>\n",
       "      <td>0</td>\n",
       "    </tr>\n",
       "    <tr>\n",
       "      <td>1</td>\n",
       "      <td>0.24</td>\n",
       "      <td>0.27</td>\n",
       "      <td>0.32</td>\n",
       "      <td>0.10</td>\n",
       "      <td>1</td>\n",
       "    </tr>\n",
       "    <tr>\n",
       "      <td>2</td>\n",
       "      <td>0.36</td>\n",
       "      <td>0.29</td>\n",
       "      <td>0.45</td>\n",
       "      <td>0.11</td>\n",
       "      <td>2</td>\n",
       "    </tr>\n",
       "    <tr>\n",
       "      <td>3</td>\n",
       "      <td>0.39</td>\n",
       "      <td>0.37</td>\n",
       "      <td>0.62</td>\n",
       "      <td>0.13</td>\n",
       "      <td>3</td>\n",
       "    </tr>\n",
       "    <tr>\n",
       "      <td>4</td>\n",
       "      <td>0.56</td>\n",
       "      <td>0.37</td>\n",
       "      <td>0.69</td>\n",
       "      <td>0.14</td>\n",
       "      <td>4</td>\n",
       "    </tr>\n",
       "    <tr>\n",
       "      <td>5</td>\n",
       "      <td>0.63</td>\n",
       "      <td>0.44</td>\n",
       "      <td>0.71</td>\n",
       "      <td>0.15</td>\n",
       "      <td>5</td>\n",
       "    </tr>\n",
       "    <tr>\n",
       "      <td>6</td>\n",
       "      <td>0.67</td>\n",
       "      <td>0.43</td>\n",
       "      <td>0.76</td>\n",
       "      <td>0.17</td>\n",
       "      <td>6</td>\n",
       "    </tr>\n",
       "    <tr>\n",
       "      <td>7</td>\n",
       "      <td>0.74</td>\n",
       "      <td>0.44</td>\n",
       "      <td>0.71</td>\n",
       "      <td>0.19</td>\n",
       "      <td>7</td>\n",
       "    </tr>\n",
       "    <tr>\n",
       "      <td>8</td>\n",
       "      <td>0.78</td>\n",
       "      <td>0.41</td>\n",
       "      <td>0.64</td>\n",
       "      <td>0.21</td>\n",
       "      <td>8</td>\n",
       "    </tr>\n",
       "    <tr>\n",
       "      <td>9</td>\n",
       "      <td>0.78</td>\n",
       "      <td>0.42</td>\n",
       "      <td>0.66</td>\n",
       "      <td>0.24</td>\n",
       "      <td>9</td>\n",
       "    </tr>\n",
       "  </tbody>\n",
       "</table>\n",
       "</div>"
      ],
      "text/plain": [
       "   baseline_train_acc  baseline_valid_acc  VIB_train_acc  VIB_valid_acc  index\n",
       "0                0.13                0.22           0.17           0.08      0\n",
       "1                0.24                0.27           0.32           0.10      1\n",
       "2                0.36                0.29           0.45           0.11      2\n",
       "3                0.39                0.37           0.62           0.13      3\n",
       "4                0.56                0.37           0.69           0.14      4\n",
       "5                0.63                0.44           0.71           0.15      5\n",
       "6                0.67                0.43           0.76           0.17      6\n",
       "7                0.74                0.44           0.71           0.19      7\n",
       "8                0.78                0.41           0.64           0.21      8\n",
       "9                0.78                0.42           0.66           0.24      9"
      ]
     },
     "execution_count": 28,
     "metadata": {},
     "output_type": "execute_result"
    }
   ],
   "source": [
    "df005_3=pd.DataFrame(dict1) \n",
    "#df005_3=df005.drop(columns='VIB_train_acc')\n",
    "df005_3\n",
    "df005_3['index'] = df005_3.index \n",
    "df005_3"
   ]
  },
  {
   "cell_type": "code",
   "execution_count": 29,
   "metadata": {},
   "outputs": [],
   "source": [
    "dict2 = {'baseline_train_f1':baseline_train['F1_Score'] ,\n",
    "        'baseline_valid_f1':baseline_valid['F1_Score'],\n",
    "        'VIB_train_f1':vib_train['F1_Score'],\n",
    "        'VIB_valid_f1':vib_valid['F1_Score']} "
   ]
  },
  {
   "cell_type": "code",
   "execution_count": 30,
   "metadata": {},
   "outputs": [
    {
     "data": {
      "text/html": [
       "<div>\n",
       "<style scoped>\n",
       "    .dataframe tbody tr th:only-of-type {\n",
       "        vertical-align: middle;\n",
       "    }\n",
       "\n",
       "    .dataframe tbody tr th {\n",
       "        vertical-align: top;\n",
       "    }\n",
       "\n",
       "    .dataframe thead th {\n",
       "        text-align: right;\n",
       "    }\n",
       "</style>\n",
       "<table border=\"1\" class=\"dataframe\">\n",
       "  <thead>\n",
       "    <tr style=\"text-align: right;\">\n",
       "      <th></th>\n",
       "      <th>baseline_train_f1</th>\n",
       "      <th>baseline_valid_f1</th>\n",
       "      <th>VIB_train_f1</th>\n",
       "      <th>VIB_valid_f1</th>\n",
       "      <th>index</th>\n",
       "    </tr>\n",
       "  </thead>\n",
       "  <tbody>\n",
       "    <tr>\n",
       "      <td>0</td>\n",
       "      <td>0.12</td>\n",
       "      <td>0.16</td>\n",
       "      <td>0.16</td>\n",
       "      <td>0.06</td>\n",
       "      <td>0</td>\n",
       "    </tr>\n",
       "    <tr>\n",
       "      <td>1</td>\n",
       "      <td>0.21</td>\n",
       "      <td>0.20</td>\n",
       "      <td>0.33</td>\n",
       "      <td>0.08</td>\n",
       "      <td>1</td>\n",
       "    </tr>\n",
       "    <tr>\n",
       "      <td>2</td>\n",
       "      <td>0.29</td>\n",
       "      <td>0.24</td>\n",
       "      <td>0.47</td>\n",
       "      <td>0.09</td>\n",
       "      <td>2</td>\n",
       "    </tr>\n",
       "    <tr>\n",
       "      <td>3</td>\n",
       "      <td>0.40</td>\n",
       "      <td>0.35</td>\n",
       "      <td>0.63</td>\n",
       "      <td>0.10</td>\n",
       "      <td>3</td>\n",
       "    </tr>\n",
       "    <tr>\n",
       "      <td>4</td>\n",
       "      <td>0.55</td>\n",
       "      <td>0.37</td>\n",
       "      <td>0.70</td>\n",
       "      <td>0.12</td>\n",
       "      <td>4</td>\n",
       "    </tr>\n",
       "    <tr>\n",
       "      <td>5</td>\n",
       "      <td>0.64</td>\n",
       "      <td>0.43</td>\n",
       "      <td>0.73</td>\n",
       "      <td>0.13</td>\n",
       "      <td>5</td>\n",
       "    </tr>\n",
       "    <tr>\n",
       "      <td>6</td>\n",
       "      <td>0.67</td>\n",
       "      <td>0.43</td>\n",
       "      <td>0.77</td>\n",
       "      <td>0.15</td>\n",
       "      <td>6</td>\n",
       "    </tr>\n",
       "    <tr>\n",
       "      <td>7</td>\n",
       "      <td>0.75</td>\n",
       "      <td>0.43</td>\n",
       "      <td>0.71</td>\n",
       "      <td>0.17</td>\n",
       "      <td>7</td>\n",
       "    </tr>\n",
       "    <tr>\n",
       "      <td>8</td>\n",
       "      <td>0.79</td>\n",
       "      <td>0.41</td>\n",
       "      <td>0.64</td>\n",
       "      <td>0.19</td>\n",
       "      <td>8</td>\n",
       "    </tr>\n",
       "    <tr>\n",
       "      <td>9</td>\n",
       "      <td>0.79</td>\n",
       "      <td>0.42</td>\n",
       "      <td>0.67</td>\n",
       "      <td>0.23</td>\n",
       "      <td>9</td>\n",
       "    </tr>\n",
       "  </tbody>\n",
       "</table>\n",
       "</div>"
      ],
      "text/plain": [
       "   baseline_train_f1  baseline_valid_f1  VIB_train_f1  VIB_valid_f1  index\n",
       "0               0.12               0.16          0.16          0.06      0\n",
       "1               0.21               0.20          0.33          0.08      1\n",
       "2               0.29               0.24          0.47          0.09      2\n",
       "3               0.40               0.35          0.63          0.10      3\n",
       "4               0.55               0.37          0.70          0.12      4\n",
       "5               0.64               0.43          0.73          0.13      5\n",
       "6               0.67               0.43          0.77          0.15      6\n",
       "7               0.75               0.43          0.71          0.17      7\n",
       "8               0.79               0.41          0.64          0.19      8\n",
       "9               0.79               0.42          0.67          0.23      9"
      ]
     },
     "execution_count": 30,
     "metadata": {},
     "output_type": "execute_result"
    }
   ],
   "source": [
    "df2005=pd.DataFrame(dict2) \n",
    "#df2005_3=df005.drop(columns=VIB_train_f1)\n",
    "df2005\n",
    "df2005['index'] = df2005.index \n",
    "df2005"
   ]
  },
  {
   "cell_type": "code",
   "execution_count": 31,
   "metadata": {},
   "outputs": [
    {
     "data": {
      "image/png": "[encoded data removed]",
      "text/plain": [
       "<Figure size 432x288 with 1 Axes>"
      ]
     },
     "metadata": {
      "needs_background": "light"
     },
     "output_type": "display_data"
    }
   ],
   "source": [
    "# gca stands for 'get current axis'\n",
    "ax = plt.gca()\n",
    "plt.title('F1 Score',fontsize=16)\n",
    "plt.xlabel('Epoch',fontsize=16)\n",
    "plt.ylabel('f1 score',fontsize=16)\n",
    "df2005.plot(kind='line',y='baseline_train_f1',color='blue',linestyle = 'dotted',label='baseline train',ax=ax)\n",
    "df2005.plot(kind='line',y='baseline_valid_f1', color='blue',label='baseline valid',ax=ax)\n",
    "df2005.plot(kind='line',y='VIB_train_f1', color='red',linewidth=1.5, linestyle = 'dotted',label='VIB train',ax=ax)\n",
    "df2005.plot(kind='line',y='VIB_valid_f1',color='red',linewidth=1.5,label='VIB valid',ax=ax)\n",
    "#df.plot(kind='line',x='name',y='num_pets', color='red', ax=ax)\n",
    "\n",
    "plt.show()"
   ]
  },
  {
   "cell_type": "code",
   "execution_count": 32,
   "metadata": {},
   "outputs": [
    {
     "data": {
      "text/plain": [
       "<matplotlib.legend.Legend at 0x7ffc3d07dfd0>"
      ]
     },
     "execution_count": 32,
     "metadata": {},
     "output_type": "execute_result"
    },
    {
     "data": {
      "image/png": "[encoded data removed]",
      "text/plain": [
       "<Figure size 720x360 with 2 Axes>"
      ]
     },
     "metadata": {
      "needs_background": "light"
     },
     "output_type": "display_data"
    }
   ],
   "source": [
    "# We can ask for ALL THE AXES and put them into axes\n",
    "fig, axes = plt.subplots(nrows=1, ncols=2, figsize=(10, 5))\n",
    "plt.subplots_adjust(wspace=.2, hspace=.2)\n",
    "## first figure\n",
    "axes[0].plot(df2005['index'],df2005['baseline_train_f1'],color='blue',linestyle = 'dotted',label='baseline train')\n",
    "axes[0].plot(df2005['index'],df2005['baseline_valid_f1'],color='blue',label='baseline valid')\n",
    "axes[0].plot(df2005['index'],df2005['VIB_train_f1'],color='red',linestyle = 'dotted',label='VIB train')\n",
    "axes[0].plot(df2005['index'],df2005['VIB_valid_f1'],color='red',label='VIB train')\n",
    "axes[0].set_ylabel('F1 score', fontsize=16)\n",
    "axes[0].set_xlabel('Epoch', fontsize=16)\n",
    "#axes[0].set_title('F1 Score', fontsize=16)\n",
    "## second figure \n",
    "axes[1].plot(df005_3['index'],df005_3['baseline_train_acc'],color='blue',linestyle = 'dotted',label='baseline train')\n",
    "axes[1].plot(df005_3['index'],df005_3['baseline_valid_acc'],color='blue',label='baseline valid')\n",
    "axes[1].plot(df005_3['index'],df005_3['VIB_train_acc'],color='red',linestyle = 'dotted',label='VIB train')\n",
    "axes[1].plot(df005_3['index'],df005_3['VIB_valid_acc'],color='red',label='VIB train')\n",
    "axes[1].set_ylabel('Accuracy', fontsize=16)\n",
    "axes[1].set_xlabel('Epoch', fontsize=16)\n",
    "#axes[1].set_title('Accuracy', fontsize=16)\n",
    "\n",
    "\n",
    "## \n",
    "axes[1].legend(loc='lower right', frameon=False)"
   ]
  },
  {
   "cell_type": "code",
   "execution_count": 33,
   "metadata": {},
   "outputs": [],
   "source": [
    "## save figure\n",
    "fig.savefig('90percent_training_dataset.png', quality=95, bbox_inches='tight')"
   ]
  },
  {
   "cell_type": "markdown",
   "metadata": {},
   "source": [
    "'''\n",
    "# gca stands for 'get current axis'\n",
    "ax = plt.gca()\n",
    "plt.title('Accuracy',fontsize=16)\n",
    "plt.xlabel('Epoch',fontsize=16)\n",
    "plt.ylabel('Accuracy',fontsize=16)\n",
    "df005_3.plot(kind='line',y='baseline_train_acc',color='blue',linestyle = 'dotted',label='baseline train',ax=ax)\n",
    "df005_3.plot(kind='line',y='baseline_valid_acc', color='blue',label='baseline valid',ax=ax)\n",
    "df005_3.plot(kind='line',y='VIB_train_acc', color='red',linewidth=1.5, linestyle = 'dotted',label='VIB train',ax=ax)\n",
    "df005_3.plot(kind='line',y='VIB_valid_acc',color='red',linewidth=1.5,label='VIB valid',ax=ax)\n",
    "#df.plot(kind='line',x='name',y='num_pets', color='red', ax=ax)\n",
    "plt.show()\n",
    "'''"
   ]
  },
  {
   "cell_type": "code",
   "execution_count": null,
   "metadata": {},
   "outputs": [],
   "source": []
  },
  {
   "cell_type": "code",
   "execution_count": null,
   "metadata": {},
   "outputs": [],
   "source": []
  }
 ],
 "metadata": {
  "kernelspec": {
   "display_name": "Python 3",
   "language": "python",
   "name": "python3"
  },
  "language_info": {
   "codemirror_mode": {
    "name": "ipython",
    "version": 3
   },
   "file_extension": ".py",
   "mimetype": "text/x-python",
   "name": "python",
   "nbconvert_exporter": "python",
   "pygments_lexer": "ipython3",
   "version": "3.7.4"
  }
 },
 "nbformat": 4,
 "nbformat_minor": 2
}
